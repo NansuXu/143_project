{
 "cells": [
  {
   "cell_type": "code",
   "execution_count": 1,
   "metadata": {},
   "outputs": [],
   "source": [
    "import csv\n",
    "import os\n",
    "import numpy as np\n",
    "import random\n",
    "import requests\n",
    "import pandas as pd"
   ]
  },
  {
   "cell_type": "code",
   "execution_count": 5,
   "metadata": {},
   "outputs": [],
   "source": [
    "title = []\n",
    "\n",
    "with open('143 data/1.csv', newline='') as csvfile:\n",
    "    rows = csv.reader(csvfile)\n",
    "    for row in rows:\n",
    "        if row[1] == 'Title_link':\n",
    "            continue\n",
    "        title.append(row[1])"
   ]
  },
  {
   "cell_type": "code",
   "execution_count": 6,
   "metadata": {},
   "outputs": [
    {
     "data": {
      "text/plain": [
       "['https://www.linkedin.com/in/yujie-zhou-01616/',\n",
       " 'https://www.linkedin.com/in/changyu-li-1aa84a16b/',\n",
       " 'https://www.linkedin.com/in/yunzhehu/',\n",
       " 'https://www.linkedin.com/in/ling-hong-63155216a/',\n",
       " 'https://www.linkedin.com/in/jichen-hong/',\n",
       " 'https://www.linkedin.com/in/shengboge/',\n",
       " 'https://www.linkedin.com/in/jason-zhen-liang-070327123/',\n",
       " 'https://www.linkedin.com/in/qianwangucsd/',\n",
       " 'https://www.linkedin.com/in/wenshan-lai-03bbb3122/',\n",
       " 'https://www.linkedin.com/in/shijun-xu-440431170/',\n",
       " 'https://www.linkedin.com/in/kaichen-liu-338559172/',\n",
       " 'https://www.linkedin.com/in/qianqian-wu-b9110216b/',\n",
       " 'https://www.linkedin.com/in/jianhui-wang-609287172/',\n",
       " 'https://www.linkedin.com/in/wenqiandai/',\n",
       " 'https://www.linkedin.com/in/yue-chen-b41626170/',\n",
       " 'https://www.linkedin.com/in/zhenghongma/',\n",
       " 'https://www.linkedin.com/in/ucsdweixinli/',\n",
       " 'https://www.linkedin.com/in/sixuan-feng-62667b140/',\n",
       " 'https://www.linkedin.com/in/binglin-zhao-lynn/',\n",
       " 'https://www.linkedin.com/in/jiayi-li-oliver/',\n",
       " 'https://www.linkedin.com/in/ziyi-shen/',\n",
       " 'https://www.linkedin.com/in/haochengzhu/',\n",
       " 'https://www.linkedin.com/in/xuanyi-yu/',\n",
       " 'https://www.linkedin.com/in/qishan-wu-97489958/',\n",
       " 'https://www.linkedin.com/in/ucsdweixinli/',\n",
       " 'https://www.linkedin.com/in/sixuan-feng-62667b140/',\n",
       " 'https://www.linkedin.com/in/binglin-zhao-lynn/',\n",
       " 'https://www.linkedin.com/in/jiayi-li-oliver/',\n",
       " 'https://www.linkedin.com/in/ziyi-shen/',\n",
       " 'https://www.linkedin.com/in/haochengzhu/',\n",
       " 'https://www.linkedin.com/in/xuanyi-yu/',\n",
       " 'https://www.linkedin.com/in/qishan-wu-97489958/',\n",
       " 'https://www.linkedin.com/in/wenshan-lai-03bbb3122/',\n",
       " 'https://www.linkedin.com/in/jiahao-zhang-zjh/',\n",
       " 'https://www.linkedin.com/in/kunming-jiang-565824149/',\n",
       " 'https://www.linkedin.com/in/xinlong-li-2017aa183/',\n",
       " 'https://www.linkedin.com/in/yiyun-shen/',\n",
       " 'https://www.linkedin.com/in/xiaochen-liu-235b1485/',\n",
       " 'https://www.linkedin.com/in/jiaxin-yuan-872963195/',\n",
       " 'https://www.linkedin.com/in/weinan-li-861a45112/',\n",
       " 'https://www.linkedin.com/in/jiayu-he-734351108/',\n",
       " 'https://www.linkedin.com/in/chupingwang/',\n",
       " 'https://www.linkedin.com/in/fan-duo/',\n",
       " 'https://www.linkedin.com/in/ruiqi-rachel-zhang-625838168/',\n",
       " 'https://www.linkedin.com/in/yiyun-shen/',\n",
       " 'https://www.linkedin.com/in/xiaochen-liu-235b1485/',\n",
       " 'https://www.linkedin.com/in/jiaxin-yuan-872963195/',\n",
       " 'https://www.linkedin.com/in/weinan-li-861a45112/',\n",
       " 'https://www.linkedin.com/in/jiayu-he-734351108/',\n",
       " 'https://www.linkedin.com/in/chupingwang/',\n",
       " 'https://www.linkedin.com/in/fan-duo/',\n",
       " 'https://www.linkedin.com/in/ruiqi-rachel-zhang-625838168/',\n",
       " 'https://www.linkedin.com/in/wenshan-lai-03bbb3122/',\n",
       " 'https://www.linkedin.com/in/jiong-liu-b85580172/',\n",
       " 'https://www.linkedin.com/in/huang-lin-6a488973/',\n",
       " 'https://www.linkedin.com/in/yusheng-ding/',\n",
       " 'https://www.linkedin.com/in/qinmei-chen-766a1682/',\n",
       " 'https://www.linkedin.com/in/yawen-zhao-b5612b157/',\n",
       " 'https://www.linkedin.com/in/devwu/',\n",
       " 'https://www.linkedin.com/in/zeyu-wang-ucsd/',\n",
       " 'https://www.linkedin.com/in/bo-bob-zhou-61b543172/',\n",
       " 'https://www.linkedin.com/in/chen-shijia-52630588/',\n",
       " 'https://www.linkedin.com/in/runyaochen/',\n",
       " 'https://www.linkedin.com/in/terryylin/',\n",
       " 'https://www.linkedin.com/in/qinmei-chen-766a1682/',\n",
       " 'https://www.linkedin.com/in/yawen-zhao-b5612b157/',\n",
       " 'https://www.linkedin.com/in/devwu/',\n",
       " 'https://www.linkedin.com/in/zeyu-wang-ucsd/',\n",
       " 'https://www.linkedin.com/in/bo-bob-zhou-61b543172/',\n",
       " 'https://www.linkedin.com/in/chen-shijia-52630588/',\n",
       " 'https://www.linkedin.com/in/runyaochen/',\n",
       " 'https://www.linkedin.com/in/terryylin/',\n",
       " 'https://www.linkedin.com/in/wenshan-lai-03bbb3122/',\n",
       " 'https://www.linkedin.com/in/jianlingliu/',\n",
       " 'https://www.linkedin.com/in/sikai-liu-113134131/',\n",
       " 'https://www.linkedin.com/in/jinweiren/',\n",
       " 'https://www.linkedin.com/in/tianyang-lu-24840014b/',\n",
       " 'https://www.linkedin.com/in/shuo-w/',\n",
       " 'https://www.linkedin.com/in/jiahao-jay-zhu-93305a171/',\n",
       " 'https://www.linkedin.com/in/moyan-zhou-21516aba/',\n",
       " 'https://www.linkedin.com/in/wenda-chen-ba0752b1/',\n",
       " 'https://www.linkedin.com/in/evelynn-zhang/',\n",
       " 'https://www.linkedin.com/in/xianze-meng-190ba2b0/',\n",
       " 'https://www.linkedin.com/in/zhiqiang-pi/',\n",
       " 'https://www.linkedin.com/in/tianyang-lu-24840014b/',\n",
       " 'https://www.linkedin.com/in/shuo-w/',\n",
       " 'https://www.linkedin.com/in/jiahao-jay-zhu-93305a171/',\n",
       " 'https://www.linkedin.com/in/moyan-zhou-21516aba/',\n",
       " 'https://www.linkedin.com/in/wenda-chen-ba0752b1/',\n",
       " 'https://www.linkedin.com/in/evelynn-zhang/',\n",
       " 'https://www.linkedin.com/in/xianze-meng-190ba2b0/',\n",
       " 'https://www.linkedin.com/in/zhiqiang-pi/',\n",
       " 'https://www.linkedin.com/in/wenshan-lai-03bbb3122/',\n",
       " 'https://www.linkedin.com/in/jie-george-lu-96ba71111/',\n",
       " 'https://www.linkedin.com/in/zack-whz98/',\n",
       " 'https://www.linkedin.com/in/zhaochunma/',\n",
       " 'https://www.linkedin.com/in/weifeng-hu-7b7364105/',\n",
       " 'https://www.linkedin.com/in/he-qu/',\n",
       " 'https://www.linkedin.com/in/shuwei-liang-155b53169/',\n",
       " 'https://www.linkedin.com/in/zhizhenqin/']"
      ]
     },
     "execution_count": 6,
     "metadata": {},
     "output_type": "execute_result"
    }
   ],
   "source": [
    "title"
   ]
  },
  {
   "cell_type": "code",
   "execution_count": 7,
   "metadata": {},
   "outputs": [
    {
     "data": {
      "text/plain": [
       "100"
      ]
     },
     "execution_count": 7,
     "metadata": {},
     "output_type": "execute_result"
    }
   ],
   "source": [
    "len(title)"
   ]
  },
  {
   "cell_type": "code",
   "execution_count": 8,
   "metadata": {},
   "outputs": [],
   "source": [
    "public_id = []\n",
    "for t in title:\n",
    "    public_id.append(t.split('/')[-2])"
   ]
  },
  {
   "cell_type": "code",
   "execution_count": 9,
   "metadata": {},
   "outputs": [
    {
     "data": {
      "text/plain": [
       "100"
      ]
     },
     "execution_count": 9,
     "metadata": {},
     "output_type": "execute_result"
    }
   ],
   "source": [
    "len(public_id)"
   ]
  },
  {
   "cell_type": "code",
   "execution_count": 51,
   "metadata": {},
   "outputs": [],
   "source": [
    "public_id = ['jichen-hong']"
   ]
  },
  {
   "cell_type": "code",
   "execution_count": 52,
   "metadata": {},
   "outputs": [
    {
     "name": "stdout",
     "output_type": "stream",
     "text": [
      "1\n"
     ]
    }
   ],
   "source": [
    "from linkedin_api import Linkedin\n",
    "\n",
    "# Authenticate using any Linkedin account credentials\n",
    "api = Linkedin('2426739384@qq.com', 'nuSqab-2dummi-saqwih')\n",
    "\n",
    "# GET a profile\n",
    "profile_list = []\n",
    "n = 1\n",
    "for pid in public_id:\n",
    "    print(n)\n",
    "    n += 1\n",
    "    profile = api.get_profile(pid)\n",
    "    if n == 10:\n",
    "        break\n",
    "    \n",
    "    profile_list.append(profile)\n",
    "# GET a profiles contact info\n",
    "#contact_info = api.get_profile_contact_info('billy-g')\n",
    "\n",
    "# GET all connected profiles (1st, 2nd and 3rd degree) of a given profile\n",
    "#connections = api.get_profile_connections('1234asc12304', max_connections=200)"
   ]
  },
  {
   "cell_type": "code",
   "execution_count": 53,
   "metadata": {},
   "outputs": [
    {
     "data": {
      "text/plain": [
       "1"
      ]
     },
     "execution_count": 53,
     "metadata": {},
     "output_type": "execute_result"
    }
   ],
   "source": [
    "len(profile_list)"
   ]
  },
  {
   "cell_type": "code",
   "execution_count": 54,
   "metadata": {},
   "outputs": [],
   "source": [
    "d = profile_list[0]"
   ]
  },
  {
   "cell_type": "code",
   "execution_count": 55,
   "metadata": {},
   "outputs": [
    {
     "data": {
      "text/plain": [
       "{'summary': 'Current Master student at UCSD.\\n\\n1.Major in Electrical and Computer Engineering, Main study areas are software engineering & machine learning.\\n',\n",
       " 'industryName': 'Computer Software',\n",
       " 'lastName': 'Hong',\n",
       " 'locationName': 'United States',\n",
       " 'student': False,\n",
       " 'geoCountryName': 'United States',\n",
       " 'geoCountryUrn': 'urn:li:fs_geo:103644278',\n",
       " 'geoLocationBackfilled': True,\n",
       " 'elt': False,\n",
       " 'industryUrn': 'urn:li:fs_industry:4',\n",
       " 'firstName': 'Jichen',\n",
       " 'entityUrn': 'urn:li:fs_profile:ACoAACbCPgMBkX_GXti7nBZy1GkN3Wy00UwEDdE',\n",
       " 'geoLocation': {'geoUrn': 'urn:li:fs_geo:100737633'},\n",
       " 'geoLocationName': 'San Diego County, California',\n",
       " 'location': {'basicLocation': {'countryCode': 'us'}},\n",
       " 'headline': 'MS Student @ UCSD. ',\n",
       " 'displayPictureUrl': 'https://media.licdn.com/dms/image/C5103AQFKPTWohRt3Ng/profile-displayphoto-shrink_',\n",
       " 'profile_id': 'ACoAACbCPgMBkX_GXti7nBZy1GkN3Wy00UwEDdE',\n",
       " 'experience': [{'locationName': 'Greater Seattle Area',\n",
       "   'entityUrn': 'urn:li:fs_position:(ACoAACbCPgMBkX_GXti7nBZy1GkN3Wy00UwEDdE,1482307670)',\n",
       "   'geoLocationName': 'Greater Seattle Area',\n",
       "   'companyName': 'Amazon',\n",
       "   'timePeriod': {'endDate': {'month': 9, 'year': 2019},\n",
       "    'startDate': {'month': 6, 'year': 2019}},\n",
       "   'description': 'SDE intern in Amazon HIT team',\n",
       "   'company': {'employeeCountRange': {'start': 10001},\n",
       "    'industries': ['Internet']},\n",
       "   'title': 'SDE intern',\n",
       "   'companyUrn': 'urn:li:fs_miniCompany:1586',\n",
       "   'companyLogoUrl': 'https://media.licdn.com/dms/image/C560BAQFdwVGpSOHmgw/company-logo_'},\n",
       "  {'locationName': 'Shanghai, China',\n",
       "   'projects': ['urn:li:fs_project:(ACoAACbCPgMBkX_GXti7nBZy1GkN3Wy00UwEDdE,357277576)'],\n",
       "   'entityUrn': 'urn:li:fs_position:(ACoAACbCPgMBkX_GXti7nBZy1GkN3Wy00UwEDdE,1367068640)',\n",
       "   'geoLocationName': 'Shanghai, China',\n",
       "   'companyName': 'Intel',\n",
       "   'timePeriod': {'endDate': {'month': 2, 'year': 2018},\n",
       "    'startDate': {'month': 10, 'year': 2017}},\n",
       "   'description': 'Project1: Data Mining System Design based on Machine Learning \\n•\\tImplemented a data mining task o determine a better strategy for overall judgments of the test cases, based on PCA and correlative filtering.  Using Pandas, SciKit-learn in Python. \\n•\\tUsed Pandas and Numpy for data preprocessing, including normalization, reversing, outline rejection, etc. \\n• Used Matplotlib and Seaborn to create charts for data visualization, including histogram and boxplot, etc.\\n\\nProject2: Full stack Web Application Design with Django and MySQL\\n•\\tDeveloped a website application to visualize and manage the team’s test data and store historic test data.\\n• Utilized Bootstrap for display and jQuery for logic at front end, with html, CSS and JavaScript. \\n• Implemented back end server using python Django framework.  \\n•\\tBuilt connection between web server and MySQL database. Implement Node.js functions to query and insert daily-updated test data into the database, implemented join and aggregation functions for data management. \\n\\n',\n",
       "   'company': {'employeeCountRange': {'start': 10001},\n",
       "    'industries': ['Semiconductors']},\n",
       "   'title': 'Software Engineering Intern',\n",
       "   'companyUrn': 'urn:li:fs_miniCompany:1053',\n",
       "   'companyLogoUrl': 'https://media.licdn.com/dms/image/C4D0BAQEQxLTTAA1tTA/company-logo_'}],\n",
       " 'skills': [{'name': 'Python'},\n",
       "  {'name': 'C++'},\n",
       "  {'name': 'Java'},\n",
       "  {'name': 'JavaScript'},\n",
       "  {'name': 'Machine Learning'},\n",
       "  {'name': 'MySQL'},\n",
       "  {'name': 'Spring MVC'},\n",
       "  {'name': 'Node.js'},\n",
       "  {'name': 'Matlab'},\n",
       "  {'name': 'Linux'},\n",
       "  {'name': 'Embedded Software'},\n",
       "  {'name': 'Leadership'},\n",
       "  {'name': 'Big Data Analytics'},\n",
       "  {'name': 'HTTP'},\n",
       "  {'name': 'MongoDB'}],\n",
       " 'education': [{'courses': ['urn:li:fs_course:(ACoAACbCPgMBkX_GXti7nBZy1GkN3Wy00UwEDdE,842325613)',\n",
       "    'urn:li:fs_course:(ACoAACbCPgMBkX_GXti7nBZy1GkN3Wy00UwEDdE,842357838)',\n",
       "    'urn:li:fs_course:(ACoAACbCPgMBkX_GXti7nBZy1GkN3Wy00UwEDdE,668740666)'],\n",
       "   'projects': ['urn:li:fs_project:(ACoAACbCPgMBkX_GXti7nBZy1GkN3Wy00UwEDdE,668148026)',\n",
       "    'urn:li:fs_project:(ACoAACbCPgMBkX_GXti7nBZy1GkN3Wy00UwEDdE,668188464)'],\n",
       "   'entityUrn': 'urn:li:fs_education:(ACoAACbCPgMBkX_GXti7nBZy1GkN3Wy00UwEDdE,555037594)',\n",
       "   'school': {'objectUrn': 'urn:li:school:17954',\n",
       "    'entityUrn': 'urn:li:fs_miniSchool:17954',\n",
       "    'active': True,\n",
       "    'schoolName': 'University of California San Diego',\n",
       "    'trackingId': 'DtOtf5G7RFeg1/4y/ISR6g==',\n",
       "    'logoUrl': 'https://media.licdn.com/dms/image/C560BAQHQYa-3EY_aaQ/company-logo_'},\n",
       "   'timePeriod': {'endDate': {'year': 2020}, 'startDate': {'year': 2018}},\n",
       "   'fieldOfStudyUrn': 'urn:li:fs_fieldOfStudy:100347',\n",
       "   'degreeName': \"Master's Degree\",\n",
       "   'schoolName': 'University of California San Diego',\n",
       "   'fieldOfStudy': 'Electrical and Computer Engineering',\n",
       "   'degreeUrn': 'urn:li:fs_degree:500',\n",
       "   'schoolUrn': 'urn:li:fs_miniSchool:17954'},\n",
       "  {'courses': ['urn:li:fs_course:(ACoAACbCPgMBkX_GXti7nBZy1GkN3Wy00UwEDdE,356862582)',\n",
       "    'urn:li:fs_course:(ACoAACbCPgMBkX_GXti7nBZy1GkN3Wy00UwEDdE,356878562)',\n",
       "    'urn:li:fs_course:(ACoAACbCPgMBkX_GXti7nBZy1GkN3Wy00UwEDdE,356898719)',\n",
       "    'urn:li:fs_course:(ACoAACbCPgMBkX_GXti7nBZy1GkN3Wy00UwEDdE,356912261)',\n",
       "    'urn:li:fs_course:(ACoAACbCPgMBkX_GXti7nBZy1GkN3Wy00UwEDdE,356927032)',\n",
       "    'urn:li:fs_course:(ACoAACbCPgMBkX_GXti7nBZy1GkN3Wy00UwEDdE,356940119)'],\n",
       "   'projects': ['urn:li:fs_project:(ACoAACbCPgMBkX_GXti7nBZy1GkN3Wy00UwEDdE,356990760)',\n",
       "    'urn:li:fs_project:(ACoAACbCPgMBkX_GXti7nBZy1GkN3Wy00UwEDdE,357054940)',\n",
       "    'urn:li:fs_project:(ACoAACbCPgMBkX_GXti7nBZy1GkN3Wy00UwEDdE,357153651)'],\n",
       "   'entityUrn': 'urn:li:fs_education:(ACoAACbCPgMBkX_GXti7nBZy1GkN3Wy00UwEDdE,515272801)',\n",
       "   'school': {'objectUrn': 'urn:li:school:11469',\n",
       "    'entityUrn': 'urn:li:fs_miniSchool:11469',\n",
       "    'active': True,\n",
       "    'schoolName': 'Zhejiang University',\n",
       "    'trackingId': '+8/eGEtqQbqP0vvanYUgIQ==',\n",
       "    'logoUrl': 'https://media.licdn.com/dms/image/C510BAQFqHuGrMlNcfg/company-logo_'},\n",
       "   'timePeriod': {'endDate': {'year': 2018}, 'startDate': {'year': 2014}},\n",
       "   'degreeName': \"Bachelor's Degree\",\n",
       "   'schoolName': 'Zhejiang University',\n",
       "   'fieldOfStudy': 'Information Science and Electronical Engineering',\n",
       "   'degreeUrn': 'urn:li:fs_degree:200',\n",
       "   'schoolUrn': 'urn:li:fs_miniSchool:11469'}]}"
      ]
     },
     "execution_count": 55,
     "metadata": {},
     "output_type": "execute_result"
    }
   ],
   "source": [
    "d"
   ]
  },
  {
   "cell_type": "code",
   "execution_count": null,
   "metadata": {},
   "outputs": [],
   "source": []
  },
  {
   "cell_type": "code",
   "execution_count": null,
   "metadata": {},
   "outputs": [],
   "source": []
  },
  {
   "cell_type": "code",
   "execution_count": null,
   "metadata": {},
   "outputs": [],
   "source": []
  },
  {
   "cell_type": "code",
   "execution_count": null,
   "metadata": {},
   "outputs": [],
   "source": []
  },
  {
   "cell_type": "code",
   "execution_count": 14,
   "metadata": {},
   "outputs": [],
   "source": [
    "import json"
   ]
  },
  {
   "cell_type": "code",
   "execution_count": 26,
   "metadata": {},
   "outputs": [],
   "source": [
    "j = json.dumps(d)"
   ]
  },
  {
   "cell_type": "code",
   "execution_count": 37,
   "metadata": {},
   "outputs": [],
   "source": [
    "f = open('143data.txt', 'w')"
   ]
  },
  {
   "cell_type": "code",
   "execution_count": 38,
   "metadata": {},
   "outputs": [],
   "source": [
    "f.writelines(j)"
   ]
  },
  {
   "cell_type": "code",
   "execution_count": 39,
   "metadata": {},
   "outputs": [],
   "source": [
    "f.close()"
   ]
  },
  {
   "cell_type": "code",
   "execution_count": 16,
   "metadata": {},
   "outputs": [],
   "source": [
    "f = open('143data.json', 'w')\n",
    "for d in profile_list:\n",
    "    j = json.dumps(d)\n",
    "    f.writelines(j)\n",
    "    f.writelines(\"\\n\")\n",
    "f.close()"
   ]
  },
  {
   "cell_type": "code",
   "execution_count": 24,
   "metadata": {},
   "outputs": [],
   "source": [
    "with open('143data.json', 'r') as f:\n",
    "    data = f.readline()\n",
    "    d = json.loads(data)"
   ]
  },
  {
   "cell_type": "code",
   "execution_count": 22,
   "metadata": {},
   "outputs": [
    {
     "data": {
      "text/plain": [
       "str"
      ]
     },
     "execution_count": 22,
     "metadata": {},
     "output_type": "execute_result"
    }
   ],
   "source": [
    "type(data)"
   ]
  },
  {
   "cell_type": "code",
   "execution_count": 29,
   "metadata": {},
   "outputs": [
    {
     "data": {
      "text/plain": [
       "{'locationName': 'Greater Seattle Area',\n",
       " 'entityUrn': 'urn:li:fs_position:(ACoAACh8UfAB-B0v3c-Fm4Ued500K9iq_2Yc5nc,1475407795)',\n",
       " 'geoLocationName': 'Greater Seattle Area',\n",
       " 'geoUrn': 'urn:li:fs_geo:90000091',\n",
       " 'companyName': 'Amazon',\n",
       " 'timePeriod': {'endDate': {'month': 9, 'year': 2019},\n",
       "  'startDate': {'month': 6, 'year': 2019}},\n",
       " 'description': 'Implemented a new service consuming data from Kinesis Stream and handle exceptions asynchronously and added it between Pricing Engine (PE) and Merchandising Platform (MP) to ensure that if there are issues with calling MP, PE will not be affected. – Kinesis Stream, SQS Queue, Multi thread\\nAdded client-side throttling using Gizmo to control the data flow to before call to MP and controlled Tps dynamically using SDC – Gizmo, SDC\\nFinish unit test, package level integration, end to end testing, pipeline level integration test. – Mockito, Junit, TestNG\\nRefactored exited library to make them independent from Spring. – Guice, Spring\\n',\n",
       " 'company': {'employeeCountRange': {'start': 10001},\n",
       "  'industries': ['Internet']},\n",
       " 'title': 'Software Engineer Intern',\n",
       " 'region': 'urn:li:fs_region:(us,91)',\n",
       " 'companyUrn': 'urn:li:fs_miniCompany:1586',\n",
       " 'companyLogoUrl': 'https://media.licdn.com/dms/image/C560BAQFdwVGpSOHmgw/company-logo_'}"
      ]
     },
     "execution_count": 29,
     "metadata": {},
     "output_type": "execute_result"
    }
   ],
   "source": [
    "d['experience'][0]"
   ]
  },
  {
   "cell_type": "code",
   "execution_count": 30,
   "metadata": {},
   "outputs": [
    {
     "data": {
      "text/plain": [
       "{'industryName': 'Internet',\n",
       " 'lastName': 'Zhou',\n",
       " 'locationName': 'United States',\n",
       " 'student': False,\n",
       " 'geoCountryName': 'United States',\n",
       " 'geoCountryUrn': 'urn:li:fs_geo:103644278',\n",
       " 'geoLocationBackfilled': True,\n",
       " 'elt': False,\n",
       " 'industryUrn': 'urn:li:fs_industry:6',\n",
       " 'firstName': 'Yujie',\n",
       " 'entityUrn': 'urn:li:fs_profile:ACoAACh8UfAB-B0v3c-Fm4Ued500K9iq_2Yc5nc',\n",
       " 'geoLocation': {'geoUrn': 'urn:li:fs_geo:100737633'},\n",
       " 'geoLocationName': 'San Diego County, California',\n",
       " 'location': {'basicLocation': {'countryCode': 'us'}},\n",
       " 'headline': 'Student at UCSD',\n",
       " 'displayPictureUrl': 'https://media.licdn.com/dms/image/C5603AQGWP0Wh6KHSgA/profile-displayphoto-shrink_',\n",
       " 'profile_id': 'ACoAACh8UfAB-B0v3c-Fm4Ued500K9iq_2Yc5nc',\n",
       " 'experience': [{'locationName': 'Greater Seattle Area',\n",
       "   'entityUrn': 'urn:li:fs_position:(ACoAACh8UfAB-B0v3c-Fm4Ued500K9iq_2Yc5nc,1475407795)',\n",
       "   'geoLocationName': 'Greater Seattle Area',\n",
       "   'geoUrn': 'urn:li:fs_geo:90000091',\n",
       "   'companyName': 'Amazon',\n",
       "   'timePeriod': {'endDate': {'month': 9, 'year': 2019},\n",
       "    'startDate': {'month': 6, 'year': 2019}},\n",
       "   'description': 'Implemented a new service consuming data from Kinesis Stream and handle exceptions asynchronously and added it between Pricing Engine (PE) and Merchandising Platform (MP) to ensure that if there are issues with calling MP, PE will not be affected. – Kinesis Stream, SQS Queue, Multi thread\\nAdded client-side throttling using Gizmo to control the data flow to before call to MP and controlled Tps dynamically using SDC – Gizmo, SDC\\nFinish unit test, package level integration, end to end testing, pipeline level integration test. – Mockito, Junit, TestNG\\nRefactored exited library to make them independent from Spring. – Guice, Spring\\n',\n",
       "   'company': {'employeeCountRange': {'start': 10001},\n",
       "    'industries': ['Internet']},\n",
       "   'title': 'Software Engineer Intern',\n",
       "   'region': 'urn:li:fs_region:(us,91)',\n",
       "   'companyUrn': 'urn:li:fs_miniCompany:1586',\n",
       "   'companyLogoUrl': 'https://media.licdn.com/dms/image/C560BAQFdwVGpSOHmgw/company-logo_'},\n",
       "  {'locationName': 'Greater San Diego Area',\n",
       "   'entityUrn': 'urn:li:fs_position:(ACoAACh8UfAB-B0v3c-Fm4Ued500K9iq_2Yc5nc,1425764708)',\n",
       "   'geoLocationName': 'Greater San Diego Area',\n",
       "   'geoUrn': 'urn:li:fs_geo:100737633',\n",
       "   'companyName': 'CRC Oncology',\n",
       "   'timePeriod': {'endDate': {'month': 4, 'year': 2019},\n",
       "    'startDate': {'month': 2, 'year': 2019}},\n",
       "   'company': {'employeeCountRange': {'start': 2, 'end': 10},\n",
       "    'industries': ['Pharmaceuticals']},\n",
       "   'title': 'Software Engineer Internship',\n",
       "   'region': 'urn:li:fs_region:(us,732)',\n",
       "   'companyUrn': 'urn:li:fs_miniCompany:18320116',\n",
       "   'companyLogoUrl': 'https://media.licdn.com/dms/image/C560BAQHeAG-eNqjBVw/company-logo_'},\n",
       "  {'locationName': 'Shanghai City, China',\n",
       "   'entityUrn': 'urn:li:fs_position:(ACoAACh8UfAB-B0v3c-Fm4Ued500K9iq_2Yc5nc,1401852546)',\n",
       "   'geoLocationName': 'Shanghai City, China',\n",
       "   'companyName': 'Shanghai Zhuibu Technology Co. Ltd.',\n",
       "   'timePeriod': {'endDate': {'month': 7, 'year': 2018},\n",
       "    'startDate': {'month': 3, 'year': 2018}},\n",
       "   'description': 'Implemented one web applications which collects, analyzes and visualizes contracts data for campus Audit, and implemented the other web system which helps trade unionists manage administration activities and get recommendation according to feedbacks. – RESTful\\nBuilt both web applications using Spring framework, implemented authorization module using Apache Shiro, designed and built the front-end UI using Bootstrap. – Spring, Apache, Shiro, Bootstrap\\n',\n",
       "   'title': 'Full Stack Engineer Intern'},\n",
       "  {'locationName': 'Hangzhou, Zhejiang, China',\n",
       "   'entityUrn': 'urn:li:fs_position:(ACoAACh8UfAB-B0v3c-Fm4Ued500K9iq_2Yc5nc,1425703084)',\n",
       "   'geoLocationName': 'Hangzhou, Zhejiang, China',\n",
       "   'companyName': 'Hangzhou Duyun Technology Inc',\n",
       "   'timePeriod': {'endDate': {'month': 3, 'year': 2017},\n",
       "    'startDate': {'month': 1, 'year': 2017}},\n",
       "   'description': 'Developed a WeChat mini-program which supports online book donation and reading experiences collection under MINA framework. – MINA framework, RESTful, jQuery, WeUI, MongoDB',\n",
       "   'title': 'Front-end Engineer Intern'}],\n",
       " 'skills': [{'name': 'Java'},\n",
       "  {'name': 'JavaScript'},\n",
       "  {'name': 'Spring Framework'},\n",
       "  {'name': 'Agile'},\n",
       "  {'name': 'Spring Boot'},\n",
       "  {'name': 'python'},\n",
       "  {'name': 'React'},\n",
       "  {'name': 'SQL'},\n",
       "  {'name': 'Django'},\n",
       "  {'name': 'MySQL'},\n",
       "  {'name': 'Cascading Style Sheets (CSS)'},\n",
       "  {'name': 'HTML'},\n",
       "  {'name': 'Linux'},\n",
       "  {'name': 'Hibernate'},\n",
       "  {'name': 'Git'},\n",
       "  {'name': 'MyBatis'},\n",
       "  {'name': 'Shiro'},\n",
       "  {'name': 'Redis'}],\n",
       " 'education': [{'entityUrn': 'urn:li:fs_education:(ACoAACh8UfAB-B0v3c-Fm4Ued500K9iq_2Yc5nc,551942906)',\n",
       "   'school': {'objectUrn': 'urn:li:school:17954',\n",
       "    'entityUrn': 'urn:li:fs_miniSchool:17954',\n",
       "    'active': True,\n",
       "    'schoolName': 'University of California San Diego',\n",
       "    'trackingId': 'cvF5C7pLQ+a3slcqrEUdoQ==',\n",
       "    'logoUrl': 'https://media.licdn.com/dms/image/C560BAQHQYa-3EY_aaQ/company-logo_'},\n",
       "   'timePeriod': {'endDate': {'year': 2020}, 'startDate': {'year': 2018}},\n",
       "   'fieldOfStudyUrn': 'urn:li:fs_fieldOfStudy:100347',\n",
       "   'degreeName': \"Master's degree\",\n",
       "   'schoolName': 'University of California San Diego',\n",
       "   'fieldOfStudy': 'Computer Engineering',\n",
       "   'degreeUrn': 'urn:li:fs_degree:500',\n",
       "   'schoolUrn': 'urn:li:fs_miniSchool:17954'}]}"
      ]
     },
     "execution_count": 30,
     "metadata": {},
     "output_type": "execute_result"
    }
   ],
   "source": [
    "d"
   ]
  },
  {
   "cell_type": "code",
   "execution_count": null,
   "metadata": {},
   "outputs": [],
   "source": []
  }
 ],
 "metadata": {
  "kernelspec": {
   "display_name": "Python 3",
   "language": "python",
   "name": "python3"
  },
  "language_info": {
   "codemirror_mode": {
    "name": "ipython",
    "version": 3
   },
   "file_extension": ".py",
   "mimetype": "text/x-python",
   "name": "python",
   "nbconvert_exporter": "python",
   "pygments_lexer": "ipython3",
   "version": "3.7.3"
  }
 },
 "nbformat": 4,
 "nbformat_minor": 2
}
